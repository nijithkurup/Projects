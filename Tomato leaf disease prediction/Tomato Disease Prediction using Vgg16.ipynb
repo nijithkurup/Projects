{
 "cells": [
  {
   "cell_type": "markdown",
   "metadata": {},
   "source": [
    "# Motivation\n",
    "In today's world, where the population is growing at a tremendous pace, the challenges regarding food production are also increasing, with the primary objective of keeping the supply in line with the demand. In agriculture, crop diseases are common, and it becomes crucial to keep the crops away from these diseases. It becomes even more strenuous to keep every plant in check."
   ]
  },
  {
   "cell_type": "markdown",
   "metadata": {},
   "source": [
    "# Objective\n",
    "The goal of this project is to create a CNN model that can accurately predict if a plant's leaf is healthy or infected, and if infected, then what disease is involved. Here I've used transfer learning and also used the VGG16 model as a base for prediction."
   ]
  },
  {
   "cell_type": "code",
   "execution_count": 1,
   "metadata": {
    "_cell_guid": "79c7e3d0-c299-4dcb-8224-4455121ee9b0",
    "_uuid": "d629ff2d2480ee46fbb7e2d37f6b5fab8052498a"
   },
   "outputs": [],
   "source": [
    "# Importing the required Libraries\n",
    "import numpy as np\n",
    "import tensorflow as tf\n",
    "from tensorflow import keras\n",
    "from tensorflow.keras.models import Sequential\n",
    "from tensorflow.keras.layers import Activation, Dense, Flatten, BatchNormalization, Conv2D, MaxPool2D\n",
    "from tensorflow.keras.optimizers import Adam\n",
    "from tensorflow.keras.metrics import categorical_crossentropy\n",
    "from tensorflow.keras.preprocessing.image import ImageDataGenerator\n",
    "from sklearn.metrics import confusion_matrix\n",
    "import itertools\n",
    "import os\n",
    "import glob\n",
    "import warnings\n",
    "warnings.simplefilter(action=\"ignore\", category=FutureWarning)\n",
    "import matplotlib.pyplot as plt\n",
    "%matplotlib inline"
   ]
  },
  {
   "cell_type": "code",
   "execution_count": 2,
   "metadata": {},
   "outputs": [],
   "source": [
    "train_path = \"../input/tomato-leaf-disease/Tomato Leaf Diseases/Training Set\"\n",
    "valid_path = \"../input/tomato-leaf-disease/Tomato Leaf Diseases/Validation Set\""
   ]
  },
  {
   "cell_type": "code",
   "execution_count": 3,
   "metadata": {},
   "outputs": [],
   "source": [
    "train_datagen = ImageDataGenerator(rescale = 1./255,\n",
    "                                   shear_range = 0.2,\n",
    "                                   zoom_range = 0.2,\n",
    "                                   horizontal_flip = True, \n",
    "                                   vertical_flip=True)\n",
    "\n",
    "valid_datagen = ImageDataGenerator(rescale = 1./255)"
   ]
  },
  {
   "cell_type": "code",
   "execution_count": 4,
   "metadata": {},
   "outputs": [
    {
     "name": "stdout",
     "output_type": "stream",
     "text": [
      "Found 10000 images belonging to 10 classes.\n"
     ]
    }
   ],
   "source": [
    "# Augmenting training data for more training examples\n",
    "training_set = train_datagen.flow_from_directory('../input/tomato-leaf-disease/Tomato Leaf Diseases/Training Set',\n",
    "                                                 target_size = (224, 224),\n",
    "                                                 batch_size = 200,\n",
    "                                                 class_mode = 'categorical')"
   ]
  },
  {
   "cell_type": "code",
   "execution_count": 5,
   "metadata": {},
   "outputs": [
    {
     "name": "stdout",
     "output_type": "stream",
     "text": [
      "Found 7000 images belonging to 10 classes.\n"
     ]
    }
   ],
   "source": [
    "validation_set = valid_datagen.flow_from_directory('../input/tomato-leaf-disease/Tomato Leaf Diseases/Validation Set',\n",
    "                                            target_size = (224, 224),\n",
    "                                            batch_size = 70,\n",
    "                                            class_mode = 'categorical')"
   ]
  },
  {
   "cell_type": "markdown",
   "metadata": {},
   "source": [
    "# **Using Transfer Learning (VGG16)**"
   ]
  },
  {
   "cell_type": "code",
   "execution_count": 6,
   "metadata": {},
   "outputs": [
    {
     "name": "stdout",
     "output_type": "stream",
     "text": [
      "Downloading data from https://storage.googleapis.com/tensorflow/keras-applications/vgg16/vgg16_weights_tf_dim_ordering_tf_kernels.h5\n",
      "553467904/553467096 [==============================] - 3s 0us/step\n"
     ]
    }
   ],
   "source": [
    "# Downloading the VGG16 model\n",
    "vgg16_model =  tf.keras.applications.vgg16.VGG16()"
   ]
  },
  {
   "cell_type": "code",
   "execution_count": 7,
   "metadata": {},
   "outputs": [],
   "source": [
    "model = Sequential()\n",
    "for layer in vgg16_model.layers[:-1]:\n",
    "    model.add(layer)"
   ]
  },
  {
   "cell_type": "code",
   "execution_count": 8,
   "metadata": {},
   "outputs": [],
   "source": [
    "# Not training existing weights\n",
    "for layer in model.layers:\n",
    "    layer.trainable = False"
   ]
  },
  {
   "cell_type": "code",
   "execution_count": 9,
   "metadata": {},
   "outputs": [],
   "source": [
    "model.add(Dense(units=10, activation= 'softmax'))"
   ]
  },
  {
   "cell_type": "code",
   "execution_count": 10,
   "metadata": {},
   "outputs": [
    {
     "name": "stdout",
     "output_type": "stream",
     "text": [
      "Model: \"sequential\"\n",
      "_________________________________________________________________\n",
      "Layer (type)                 Output Shape              Param #   \n",
      "=================================================================\n",
      "block1_conv1 (Conv2D)        (None, 224, 224, 64)      1792      \n",
      "_________________________________________________________________\n",
      "block1_conv2 (Conv2D)        (None, 224, 224, 64)      36928     \n",
      "_________________________________________________________________\n",
      "block1_pool (MaxPooling2D)   (None, 112, 112, 64)      0         \n",
      "_________________________________________________________________\n",
      "block2_conv1 (Conv2D)        (None, 112, 112, 128)     73856     \n",
      "_________________________________________________________________\n",
      "block2_conv2 (Conv2D)        (None, 112, 112, 128)     147584    \n",
      "_________________________________________________________________\n",
      "block2_pool (MaxPooling2D)   (None, 56, 56, 128)       0         \n",
      "_________________________________________________________________\n",
      "block3_conv1 (Conv2D)        (None, 56, 56, 256)       295168    \n",
      "_________________________________________________________________\n",
      "block3_conv2 (Conv2D)        (None, 56, 56, 256)       590080    \n",
      "_________________________________________________________________\n",
      "block3_conv3 (Conv2D)        (None, 56, 56, 256)       590080    \n",
      "_________________________________________________________________\n",
      "block3_pool (MaxPooling2D)   (None, 28, 28, 256)       0         \n",
      "_________________________________________________________________\n",
      "block4_conv1 (Conv2D)        (None, 28, 28, 512)       1180160   \n",
      "_________________________________________________________________\n",
      "block4_conv2 (Conv2D)        (None, 28, 28, 512)       2359808   \n",
      "_________________________________________________________________\n",
      "block4_conv3 (Conv2D)        (None, 28, 28, 512)       2359808   \n",
      "_________________________________________________________________\n",
      "block4_pool (MaxPooling2D)   (None, 14, 14, 512)       0         \n",
      "_________________________________________________________________\n",
      "block5_conv1 (Conv2D)        (None, 14, 14, 512)       2359808   \n",
      "_________________________________________________________________\n",
      "block5_conv2 (Conv2D)        (None, 14, 14, 512)       2359808   \n",
      "_________________________________________________________________\n",
      "block5_conv3 (Conv2D)        (None, 14, 14, 512)       2359808   \n",
      "_________________________________________________________________\n",
      "block5_pool (MaxPooling2D)   (None, 7, 7, 512)         0         \n",
      "_________________________________________________________________\n",
      "flatten (Flatten)            (None, 25088)             0         \n",
      "_________________________________________________________________\n",
      "fc1 (Dense)                  (None, 4096)              102764544 \n",
      "_________________________________________________________________\n",
      "fc2 (Dense)                  (None, 4096)              16781312  \n",
      "_________________________________________________________________\n",
      "dense (Dense)                (None, 10)                40970     \n",
      "=================================================================\n",
      "Total params: 134,301,514\n",
      "Trainable params: 40,970\n",
      "Non-trainable params: 134,260,544\n",
      "_________________________________________________________________\n"
     ]
    }
   ],
   "source": [
    "model.summary()"
   ]
  },
  {
   "cell_type": "code",
   "execution_count": 11,
   "metadata": {},
   "outputs": [],
   "source": [
    "model.compile(loss='categorical_crossentropy', \n",
    "              optimizer='adam', \n",
    "              metrics=['accuracy'])"
   ]
  },
  {
   "cell_type": "code",
   "execution_count": 12,
   "metadata": {},
   "outputs": [
    {
     "name": "stdout",
     "output_type": "stream",
     "text": [
      "Epoch 1/50\n",
      "50/50 [==============================] - 285s 6s/step - loss: 2.1009 - accuracy: 0.2954 - val_loss: 1.7394 - val_accuracy: 0.4296\n",
      "Epoch 2/50\n",
      "50/50 [==============================] - 159s 3s/step - loss: 1.5625 - accuracy: 0.5093 - val_loss: 1.4902 - val_accuracy: 0.5271\n",
      "Epoch 3/50\n",
      "50/50 [==============================] - 162s 3s/step - loss: 1.3534 - accuracy: 0.5817 - val_loss: 1.3427 - val_accuracy: 0.5899\n",
      "Epoch 4/50\n",
      "50/50 [==============================] - 161s 3s/step - loss: 1.2325 - accuracy: 0.6186 - val_loss: 1.2377 - val_accuracy: 0.6100\n",
      "Epoch 5/50\n",
      "50/50 [==============================] - 159s 3s/step - loss: 1.1552 - accuracy: 0.6318 - val_loss: 1.1612 - val_accuracy: 0.6577\n",
      "Epoch 6/50\n",
      "50/50 [==============================] - 157s 3s/step - loss: 1.0870 - accuracy: 0.6606 - val_loss: 1.1023 - val_accuracy: 0.6569\n",
      "Epoch 7/50\n",
      "50/50 [==============================] - 159s 3s/step - loss: 1.0454 - accuracy: 0.6652 - val_loss: 1.0905 - val_accuracy: 0.6534\n",
      "Epoch 8/50\n",
      "50/50 [==============================] - 157s 3s/step - loss: 0.9981 - accuracy: 0.6854 - val_loss: 1.0504 - val_accuracy: 0.6659\n",
      "Epoch 9/50\n",
      "50/50 [==============================] - 161s 3s/step - loss: 0.9798 - accuracy: 0.6813 - val_loss: 1.0223 - val_accuracy: 0.6717\n",
      "Epoch 10/50\n",
      "50/50 [==============================] - 155s 3s/step - loss: 0.9495 - accuracy: 0.6936 - val_loss: 1.0065 - val_accuracy: 0.6757\n",
      "Epoch 11/50\n",
      "50/50 [==============================] - 155s 3s/step - loss: 0.9130 - accuracy: 0.7017 - val_loss: 0.9750 - val_accuracy: 0.6891\n",
      "Epoch 12/50\n",
      "50/50 [==============================] - 155s 3s/step - loss: 0.8877 - accuracy: 0.7170 - val_loss: 0.9569 - val_accuracy: 0.6913\n",
      "Epoch 13/50\n",
      "50/50 [==============================] - 154s 3s/step - loss: 0.8635 - accuracy: 0.7191 - val_loss: 0.9332 - val_accuracy: 0.6924\n",
      "Epoch 14/50\n",
      "50/50 [==============================] - 154s 3s/step - loss: 0.8573 - accuracy: 0.7203 - val_loss: 0.9390 - val_accuracy: 0.6876\n",
      "Epoch 15/50\n",
      "50/50 [==============================] - 164s 3s/step - loss: 0.8556 - accuracy: 0.7196 - val_loss: 0.9254 - val_accuracy: 0.6989\n",
      "Epoch 16/50\n",
      "50/50 [==============================] - 171s 3s/step - loss: 0.8531 - accuracy: 0.7175 - val_loss: 0.9042 - val_accuracy: 0.7054\n",
      "Epoch 17/50\n",
      "50/50 [==============================] - 173s 3s/step - loss: 0.8169 - accuracy: 0.7354 - val_loss: 0.8844 - val_accuracy: 0.7007\n",
      "Epoch 18/50\n",
      "50/50 [==============================] - 173s 3s/step - loss: 0.8000 - accuracy: 0.7359 - val_loss: 0.8661 - val_accuracy: 0.7101\n",
      "Epoch 19/50\n",
      "50/50 [==============================] - 175s 4s/step - loss: 0.7852 - accuracy: 0.7432 - val_loss: 0.8655 - val_accuracy: 0.7140\n",
      "Epoch 20/50\n",
      "50/50 [==============================] - 172s 3s/step - loss: 0.7767 - accuracy: 0.7436 - val_loss: 0.8671 - val_accuracy: 0.7120\n",
      "Epoch 21/50\n",
      "50/50 [==============================] - 157s 3s/step - loss: 0.7634 - accuracy: 0.7499 - val_loss: 0.8251 - val_accuracy: 0.7289\n",
      "Epoch 22/50\n",
      "50/50 [==============================] - 151s 3s/step - loss: 0.7642 - accuracy: 0.7495 - val_loss: 0.8220 - val_accuracy: 0.7320\n",
      "Epoch 23/50\n",
      "50/50 [==============================] - 162s 3s/step - loss: 0.7554 - accuracy: 0.7522 - val_loss: 0.8432 - val_accuracy: 0.7200\n",
      "Epoch 24/50\n",
      "50/50 [==============================] - 157s 3s/step - loss: 0.7468 - accuracy: 0.7513 - val_loss: 0.8403 - val_accuracy: 0.7173\n",
      "Epoch 25/50\n",
      "50/50 [==============================] - 154s 3s/step - loss: 0.7473 - accuracy: 0.7556 - val_loss: 0.8276 - val_accuracy: 0.7200\n",
      "Epoch 26/50\n",
      "50/50 [==============================] - 155s 3s/step - loss: 0.7268 - accuracy: 0.7593 - val_loss: 0.8046 - val_accuracy: 0.7309\n",
      "Epoch 27/50\n",
      "50/50 [==============================] - 155s 3s/step - loss: 0.7252 - accuracy: 0.7585 - val_loss: 0.8019 - val_accuracy: 0.7314\n",
      "Epoch 28/50\n",
      "50/50 [==============================] - 153s 3s/step - loss: 0.7256 - accuracy: 0.7594 - val_loss: 0.7911 - val_accuracy: 0.7381\n",
      "Epoch 29/50\n",
      "50/50 [==============================] - 153s 3s/step - loss: 0.7065 - accuracy: 0.7664 - val_loss: 0.7706 - val_accuracy: 0.7434\n",
      "Epoch 30/50\n",
      "50/50 [==============================] - 152s 3s/step - loss: 0.6979 - accuracy: 0.7647 - val_loss: 0.7980 - val_accuracy: 0.7371\n",
      "Epoch 31/50\n",
      "50/50 [==============================] - 155s 3s/step - loss: 0.7038 - accuracy: 0.7665 - val_loss: 0.7911 - val_accuracy: 0.7271\n",
      "Epoch 32/50\n",
      "50/50 [==============================] - 152s 3s/step - loss: 0.6849 - accuracy: 0.7732 - val_loss: 0.7993 - val_accuracy: 0.7294\n",
      "Epoch 33/50\n",
      "50/50 [==============================] - 151s 3s/step - loss: 0.6880 - accuracy: 0.7698 - val_loss: 0.7663 - val_accuracy: 0.7436\n",
      "Epoch 34/50\n",
      "50/50 [==============================] - 152s 3s/step - loss: 0.6817 - accuracy: 0.7738 - val_loss: 0.7600 - val_accuracy: 0.7497\n",
      "Epoch 35/50\n",
      "50/50 [==============================] - 151s 3s/step - loss: 0.6806 - accuracy: 0.7729 - val_loss: 0.7327 - val_accuracy: 0.7579\n",
      "Epoch 36/50\n",
      "50/50 [==============================] - 151s 3s/step - loss: 0.6730 - accuracy: 0.7785 - val_loss: 0.7792 - val_accuracy: 0.7361\n",
      "Epoch 37/50\n",
      "50/50 [==============================] - 152s 3s/step - loss: 0.6590 - accuracy: 0.7848 - val_loss: 0.7635 - val_accuracy: 0.7411\n",
      "Epoch 38/50\n",
      "50/50 [==============================] - 164s 3s/step - loss: 0.6678 - accuracy: 0.7754 - val_loss: 0.7370 - val_accuracy: 0.7559\n",
      "Epoch 39/50\n",
      "50/50 [==============================] - 154s 3s/step - loss: 0.6546 - accuracy: 0.7828 - val_loss: 0.7494 - val_accuracy: 0.7504\n",
      "Epoch 40/50\n",
      "50/50 [==============================] - 151s 3s/step - loss: 0.6642 - accuracy: 0.7793 - val_loss: 0.7473 - val_accuracy: 0.7476\n",
      "Epoch 41/50\n",
      "50/50 [==============================] - 159s 3s/step - loss: 0.6522 - accuracy: 0.7877 - val_loss: 0.7544 - val_accuracy: 0.7470\n",
      "Epoch 42/50\n",
      "50/50 [==============================] - 158s 3s/step - loss: 0.6597 - accuracy: 0.7773 - val_loss: 0.7525 - val_accuracy: 0.7474\n",
      "Epoch 43/50\n",
      "50/50 [==============================] - 155s 3s/step - loss: 0.6411 - accuracy: 0.7864 - val_loss: 0.7125 - val_accuracy: 0.7610\n",
      "Epoch 44/50\n",
      "50/50 [==============================] - 154s 3s/step - loss: 0.6379 - accuracy: 0.7886 - val_loss: 0.7297 - val_accuracy: 0.7571\n",
      "Epoch 45/50\n",
      "50/50 [==============================] - 155s 3s/step - loss: 0.6378 - accuracy: 0.7860 - val_loss: 0.7152 - val_accuracy: 0.7563\n",
      "Epoch 46/50\n",
      "50/50 [==============================] - 153s 3s/step - loss: 0.6258 - accuracy: 0.7958 - val_loss: 0.7090 - val_accuracy: 0.7626\n",
      "Epoch 47/50\n",
      "50/50 [==============================] - 154s 3s/step - loss: 0.6290 - accuracy: 0.7929 - val_loss: 0.7119 - val_accuracy: 0.7623\n",
      "Epoch 48/50\n",
      "50/50 [==============================] - 154s 3s/step - loss: 0.6262 - accuracy: 0.7919 - val_loss: 0.7203 - val_accuracy: 0.7553\n",
      "Epoch 49/50\n",
      "50/50 [==============================] - 156s 3s/step - loss: 0.6419 - accuracy: 0.7848 - val_loss: 0.6884 - val_accuracy: 0.7734\n",
      "Epoch 50/50\n",
      "50/50 [==============================] - 158s 3s/step - loss: 0.6069 - accuracy: 0.7994 - val_loss: 0.6870 - val_accuracy: 0.7697\n"
     ]
    }
   ],
   "source": [
    "mod = model.fit(x = training_set, validation_data=validation_set, epochs=50, verbose = 1)"
   ]
  },
  {
   "cell_type": "code",
   "execution_count": 13,
   "metadata": {},
   "outputs": [
    {
     "data": {
      "image/png": "[encoded data removed]",
      "text/plain": [
       "<Figure size 432x288 with 1 Axes>"
      ]
     },
     "metadata": {
      "needs_background": "light"
     },
     "output_type": "display_data"
    }
   ],
   "source": [
    "# Loss Plot\n",
    "plt.plot(mod.history['loss'], label='train loss')\n",
    "plt.plot(mod.history['val_loss'], label='val loss')\n",
    "plt.legend()\n",
    "plt.show()"
   ]
  },
  {
   "cell_type": "code",
   "execution_count": 14,
   "metadata": {},
   "outputs": [
    {
     "data": {
      "image/png": "[encoded data removed]",
      "text/plain": [
       "<Figure size 432x288 with 1 Axes>"
      ]
     },
     "metadata": {
      "needs_background": "light"
     },
     "output_type": "display_data"
    }
   ],
   "source": [
    "# accuracy plot\n",
    "plt.plot(mod.history['accuracy'], label='train acc')\n",
    "plt.plot(mod.history['val_accuracy'], label='val acc')\n",
    "plt.legend()\n",
    "plt.show()"
   ]
  },
  {
   "cell_type": "markdown",
   "metadata": {},
   "source": [
    "**Note**\n",
    "From the above Accuracy and Loss plots, it is evident that the model started to overfit a bit. That can be confirmed by looking at the diverging training and validation losses."
   ]
  },
  {
   "cell_type": "markdown",
   "metadata": {},
   "source": [
    "# Updating all the parameters of VGG16 model"
   ]
  },
  {
   "cell_type": "code",
   "execution_count": 15,
   "metadata": {},
   "outputs": [],
   "source": [
    "vgg16 =  tf.keras.applications.vgg16.VGG16()"
   ]
  },
  {
   "cell_type": "code",
   "execution_count": 16,
   "metadata": {},
   "outputs": [],
   "source": [
    "vggmodel = Sequential()\n",
    "for layer in vgg16.layers[:-1]:\n",
    "    vggmodel.add(layer)"
   ]
  },
  {
   "cell_type": "code",
   "execution_count": 17,
   "metadata": {},
   "outputs": [
    {
     "name": "stdout",
     "output_type": "stream",
     "text": [
      "Model: \"sequential_1\"\n",
      "_________________________________________________________________\n",
      "Layer (type)                 Output Shape              Param #   \n",
      "=================================================================\n",
      "block1_conv1 (Conv2D)        (None, 224, 224, 64)      1792      \n",
      "_________________________________________________________________\n",
      "block1_conv2 (Conv2D)        (None, 224, 224, 64)      36928     \n",
      "_________________________________________________________________\n",
      "block1_pool (MaxPooling2D)   (None, 112, 112, 64)      0         \n",
      "_________________________________________________________________\n",
      "block2_conv1 (Conv2D)        (None, 112, 112, 128)     73856     \n",
      "_________________________________________________________________\n",
      "block2_conv2 (Conv2D)        (None, 112, 112, 128)     147584    \n",
      "_________________________________________________________________\n",
      "block2_pool (MaxPooling2D)   (None, 56, 56, 128)       0         \n",
      "_________________________________________________________________\n",
      "block3_conv1 (Conv2D)        (None, 56, 56, 256)       295168    \n",
      "_________________________________________________________________\n",
      "block3_conv2 (Conv2D)        (None, 56, 56, 256)       590080    \n",
      "_________________________________________________________________\n",
      "block3_conv3 (Conv2D)        (None, 56, 56, 256)       590080    \n",
      "_________________________________________________________________\n",
      "block3_pool (MaxPooling2D)   (None, 28, 28, 256)       0         \n",
      "_________________________________________________________________\n",
      "block4_conv1 (Conv2D)        (None, 28, 28, 512)       1180160   \n",
      "_________________________________________________________________\n",
      "block4_conv2 (Conv2D)        (None, 28, 28, 512)       2359808   \n",
      "_________________________________________________________________\n",
      "block4_conv3 (Conv2D)        (None, 28, 28, 512)       2359808   \n",
      "_________________________________________________________________\n",
      "block4_pool (MaxPooling2D)   (None, 14, 14, 512)       0         \n",
      "_________________________________________________________________\n",
      "block5_conv1 (Conv2D)        (None, 14, 14, 512)       2359808   \n",
      "_________________________________________________________________\n",
      "block5_conv2 (Conv2D)        (None, 14, 14, 512)       2359808   \n",
      "_________________________________________________________________\n",
      "block5_conv3 (Conv2D)        (None, 14, 14, 512)       2359808   \n",
      "_________________________________________________________________\n",
      "block5_pool (MaxPooling2D)   (None, 7, 7, 512)         0         \n",
      "_________________________________________________________________\n",
      "flatten (Flatten)            (None, 25088)             0         \n",
      "_________________________________________________________________\n",
      "fc1 (Dense)                  (None, 4096)              102764544 \n",
      "_________________________________________________________________\n",
      "fc2 (Dense)                  (None, 4096)              16781312  \n",
      "_________________________________________________________________\n",
      "dense_1 (Dense)              (None, 10)                40970     \n",
      "=================================================================\n",
      "Total params: 134,301,514\n",
      "Trainable params: 134,301,514\n",
      "Non-trainable params: 0\n",
      "_________________________________________________________________\n"
     ]
    }
   ],
   "source": [
    "vggmodel.add(Dense(units=10, activation= 'softmax'))\n",
    "vggmodel.summary()"
   ]
  },
  {
   "cell_type": "code",
   "execution_count": 18,
   "metadata": {},
   "outputs": [],
   "source": [
    "vggmodel.compile(loss='categorical_crossentropy', \n",
    "              optimizer='adam', \n",
    "              metrics=['accuracy'])"
   ]
  },
  {
   "cell_type": "code",
   "execution_count": 19,
   "metadata": {},
   "outputs": [
    {
     "name": "stdout",
     "output_type": "stream",
     "text": [
      "Epoch 1/100\n",
      "50/50 [==============================] - 195s 4s/step - loss: 11.0960 - accuracy: 0.1165 - val_loss: 2.2135 - val_accuracy: 0.1679\n",
      "Epoch 2/100\n",
      "50/50 [==============================] - 203s 4s/step - loss: 2.2123 - accuracy: 0.1538 - val_loss: 2.0920 - val_accuracy: 0.2306\n",
      "Epoch 3/100\n",
      "50/50 [==============================] - 195s 4s/step - loss: 2.0725 - accuracy: 0.2167 - val_loss: 2.0010 - val_accuracy: 0.2089\n",
      "Epoch 4/100\n",
      "50/50 [==============================] - 203s 4s/step - loss: 1.9133 - accuracy: 0.2785 - val_loss: 1.8182 - val_accuracy: 0.3399\n",
      "Epoch 5/100\n",
      "50/50 [==============================] - 211s 4s/step - loss: 1.7674 - accuracy: 0.3363 - val_loss: 1.7743 - val_accuracy: 0.3529\n",
      "Epoch 6/100\n",
      "50/50 [==============================] - 206s 4s/step - loss: 1.6850 - accuracy: 0.3709 - val_loss: 1.6301 - val_accuracy: 0.4016\n",
      "Epoch 7/100\n",
      "50/50 [==============================] - 213s 4s/step - loss: 1.4240 - accuracy: 0.4699 - val_loss: 1.5591 - val_accuracy: 0.4167\n",
      "Epoch 8/100\n",
      "50/50 [==============================] - 209s 4s/step - loss: 1.8208 - accuracy: 0.4025 - val_loss: 1.6712 - val_accuracy: 0.3879\n",
      "Epoch 9/100\n",
      "50/50 [==============================] - 207s 4s/step - loss: 1.2689 - accuracy: 0.5429 - val_loss: 1.4686 - val_accuracy: 0.4660\n",
      "Epoch 10/100\n",
      "50/50 [==============================] - 209s 4s/step - loss: 1.0836 - accuracy: 0.6092 - val_loss: 1.0530 - val_accuracy: 0.6176\n",
      "Epoch 11/100\n",
      "50/50 [==============================] - 209s 4s/step - loss: 0.9587 - accuracy: 0.6490 - val_loss: 1.1460 - val_accuracy: 0.5907\n",
      "Epoch 12/100\n",
      "50/50 [==============================] - 210s 4s/step - loss: 0.8754 - accuracy: 0.6802 - val_loss: 0.9371 - val_accuracy: 0.6520\n",
      "Epoch 13/100\n",
      "50/50 [==============================] - 206s 4s/step - loss: 0.7281 - accuracy: 0.7326 - val_loss: 0.8956 - val_accuracy: 0.6873\n",
      "Epoch 14/100\n",
      "50/50 [==============================] - 210s 4s/step - loss: 0.7254 - accuracy: 0.7344 - val_loss: 0.7194 - val_accuracy: 0.7347\n",
      "Epoch 15/100\n",
      "50/50 [==============================] - 209s 4s/step - loss: 0.6268 - accuracy: 0.7735 - val_loss: 0.7134 - val_accuracy: 0.7419\n",
      "Epoch 16/100\n",
      "50/50 [==============================] - 207s 4s/step - loss: 0.5400 - accuracy: 0.8076 - val_loss: 0.6991 - val_accuracy: 0.7571\n",
      "Epoch 17/100\n",
      "50/50 [==============================] - 211s 4s/step - loss: 0.4767 - accuracy: 0.8279 - val_loss: 0.6191 - val_accuracy: 0.7710\n",
      "Epoch 18/100\n",
      "50/50 [==============================] - 209s 4s/step - loss: 0.4602 - accuracy: 0.8337 - val_loss: 0.5455 - val_accuracy: 0.8060\n",
      "Epoch 19/100\n",
      "50/50 [==============================] - 210s 4s/step - loss: 0.4251 - accuracy: 0.8429 - val_loss: 0.5251 - val_accuracy: 0.8121\n",
      "Epoch 20/100\n",
      "50/50 [==============================] - 208s 4s/step - loss: 0.3352 - accuracy: 0.8780 - val_loss: 0.6135 - val_accuracy: 0.8056\n",
      "Epoch 21/100\n",
      "50/50 [==============================] - 213s 4s/step - loss: 0.3827 - accuracy: 0.8624 - val_loss: 0.4044 - val_accuracy: 0.8587\n",
      "Epoch 22/100\n",
      "50/50 [==============================] - 209s 4s/step - loss: 0.2732 - accuracy: 0.9030 - val_loss: 0.3355 - val_accuracy: 0.8867\n",
      "Epoch 23/100\n",
      "50/50 [==============================] - 213s 4s/step - loss: 0.3126 - accuracy: 0.8894 - val_loss: 0.3099 - val_accuracy: 0.8914\n",
      "Epoch 24/100\n",
      "50/50 [==============================] - 212s 4s/step - loss: 0.2191 - accuracy: 0.9205 - val_loss: 0.2105 - val_accuracy: 0.9277\n",
      "Epoch 25/100\n",
      "50/50 [==============================] - 206s 4s/step - loss: 0.2685 - accuracy: 0.9021 - val_loss: 0.2772 - val_accuracy: 0.9056\n",
      "Epoch 26/100\n",
      "50/50 [==============================] - 197s 4s/step - loss: 0.1817 - accuracy: 0.9390 - val_loss: 0.3409 - val_accuracy: 0.8813\n",
      "Epoch 27/100\n",
      "50/50 [==============================] - 191s 4s/step - loss: 0.1876 - accuracy: 0.9328 - val_loss: 0.4431 - val_accuracy: 0.8594\n",
      "Epoch 28/100\n",
      "50/50 [==============================] - 188s 4s/step - loss: 0.1830 - accuracy: 0.9366 - val_loss: 0.2928 - val_accuracy: 0.9033\n",
      "Epoch 29/100\n",
      "50/50 [==============================] - 187s 4s/step - loss: 0.1527 - accuracy: 0.9448 - val_loss: 0.2125 - val_accuracy: 0.9313\n",
      "Epoch 30/100\n",
      "50/50 [==============================] - 185s 4s/step - loss: 0.1439 - accuracy: 0.9489 - val_loss: 0.2054 - val_accuracy: 0.9329\n",
      "Epoch 31/100\n",
      "50/50 [==============================] - 185s 4s/step - loss: 0.1074 - accuracy: 0.9613 - val_loss: 0.1994 - val_accuracy: 0.9341\n",
      "Epoch 32/100\n",
      "50/50 [==============================] - 187s 4s/step - loss: 0.1235 - accuracy: 0.9576 - val_loss: 0.1974 - val_accuracy: 0.9363\n",
      "Epoch 33/100\n",
      "50/50 [==============================] - 185s 4s/step - loss: 0.1147 - accuracy: 0.9593 - val_loss: 0.1344 - val_accuracy: 0.9533\n",
      "Epoch 34/100\n",
      "50/50 [==============================] - 190s 4s/step - loss: 0.1138 - accuracy: 0.9596 - val_loss: 0.1785 - val_accuracy: 0.9381\n",
      "Epoch 35/100\n",
      "50/50 [==============================] - 201s 4s/step - loss: 0.1245 - accuracy: 0.9570 - val_loss: 0.1539 - val_accuracy: 0.9507\n",
      "Epoch 36/100\n",
      "50/50 [==============================] - 207s 4s/step - loss: 0.1038 - accuracy: 0.9621 - val_loss: 0.1664 - val_accuracy: 0.9433\n",
      "Epoch 37/100\n",
      "50/50 [==============================] - 194s 4s/step - loss: 0.0975 - accuracy: 0.9654 - val_loss: 0.2092 - val_accuracy: 0.9364\n",
      "Epoch 38/100\n",
      "50/50 [==============================] - 192s 4s/step - loss: 0.0755 - accuracy: 0.9728 - val_loss: 0.2616 - val_accuracy: 0.9227\n",
      "Epoch 39/100\n",
      "50/50 [==============================] - 190s 4s/step - loss: 0.1016 - accuracy: 0.9661 - val_loss: 0.1497 - val_accuracy: 0.9550\n",
      "Epoch 40/100\n",
      "50/50 [==============================] - 187s 4s/step - loss: 0.0821 - accuracy: 0.9698 - val_loss: 0.1451 - val_accuracy: 0.9544\n",
      "Epoch 41/100\n",
      "50/50 [==============================] - 189s 4s/step - loss: 0.0755 - accuracy: 0.9751 - val_loss: 0.1743 - val_accuracy: 0.9451\n",
      "Epoch 42/100\n",
      "50/50 [==============================] - 192s 4s/step - loss: 0.1013 - accuracy: 0.9675 - val_loss: 0.2289 - val_accuracy: 0.9263\n",
      "Epoch 43/100\n",
      "50/50 [==============================] - 188s 4s/step - loss: 0.1326 - accuracy: 0.9541 - val_loss: 0.1453 - val_accuracy: 0.9536\n",
      "Epoch 44/100\n",
      "50/50 [==============================] - 188s 4s/step - loss: 0.0869 - accuracy: 0.9690 - val_loss: 0.2036 - val_accuracy: 0.9367\n",
      "Epoch 45/100\n",
      "50/50 [==============================] - 190s 4s/step - loss: 0.0717 - accuracy: 0.9748 - val_loss: 0.1730 - val_accuracy: 0.9507\n",
      "Epoch 46/100\n",
      "50/50 [==============================] - 189s 4s/step - loss: 0.0573 - accuracy: 0.9798 - val_loss: 0.1286 - val_accuracy: 0.9607\n",
      "Epoch 47/100\n",
      "50/50 [==============================] - 185s 4s/step - loss: 0.0994 - accuracy: 0.9668 - val_loss: 0.1903 - val_accuracy: 0.9343\n",
      "Epoch 48/100\n",
      "50/50 [==============================] - 190s 4s/step - loss: 0.0943 - accuracy: 0.9681 - val_loss: 0.1726 - val_accuracy: 0.9473\n",
      "Epoch 49/100\n",
      "50/50 [==============================] - 189s 4s/step - loss: 0.1394 - accuracy: 0.9511 - val_loss: 0.1206 - val_accuracy: 0.9596\n",
      "Epoch 50/100\n",
      "50/50 [==============================] - 187s 4s/step - loss: 0.0503 - accuracy: 0.9819 - val_loss: 0.1492 - val_accuracy: 0.9566\n",
      "Epoch 51/100\n",
      "50/50 [==============================] - 186s 4s/step - loss: 0.0695 - accuracy: 0.9762 - val_loss: 0.1583 - val_accuracy: 0.9533\n",
      "Epoch 52/100\n",
      "50/50 [==============================] - 185s 4s/step - loss: 0.0553 - accuracy: 0.9799 - val_loss: 0.1214 - val_accuracy: 0.9607\n",
      "Epoch 53/100\n",
      "50/50 [==============================] - 184s 4s/step - loss: 0.0703 - accuracy: 0.9767 - val_loss: 0.1237 - val_accuracy: 0.9634\n",
      "Epoch 54/100\n",
      "50/50 [==============================] - 183s 4s/step - loss: 0.0554 - accuracy: 0.9815 - val_loss: 0.0896 - val_accuracy: 0.9726\n",
      "Epoch 55/100\n",
      "50/50 [==============================] - 183s 4s/step - loss: 0.0526 - accuracy: 0.9817 - val_loss: 0.0831 - val_accuracy: 0.9759\n",
      "Epoch 56/100\n",
      "50/50 [==============================] - 185s 4s/step - loss: 0.0595 - accuracy: 0.9809 - val_loss: 0.1743 - val_accuracy: 0.9489\n",
      "Epoch 57/100\n",
      "50/50 [==============================] - 184s 4s/step - loss: 0.0654 - accuracy: 0.9763 - val_loss: 0.1123 - val_accuracy: 0.9669\n",
      "Epoch 58/100\n",
      "50/50 [==============================] - 183s 4s/step - loss: 0.0473 - accuracy: 0.9833 - val_loss: 0.0973 - val_accuracy: 0.9709\n",
      "Epoch 59/100\n",
      "50/50 [==============================] - 202s 4s/step - loss: 0.0473 - accuracy: 0.9838 - val_loss: 0.1780 - val_accuracy: 0.9519\n",
      "Epoch 60/100\n",
      "50/50 [==============================] - 185s 4s/step - loss: 0.0697 - accuracy: 0.9761 - val_loss: 0.1054 - val_accuracy: 0.9649\n",
      "Epoch 61/100\n",
      "50/50 [==============================] - 184s 4s/step - loss: 0.0751 - accuracy: 0.9737 - val_loss: 0.1199 - val_accuracy: 0.9624\n",
      "Epoch 62/100\n",
      "50/50 [==============================] - 185s 4s/step - loss: 0.0573 - accuracy: 0.9806 - val_loss: 0.1903 - val_accuracy: 0.9454\n",
      "Epoch 63/100\n",
      "50/50 [==============================] - 187s 4s/step - loss: 0.0650 - accuracy: 0.9781 - val_loss: 0.3150 - val_accuracy: 0.9073\n",
      "Epoch 64/100\n",
      "50/50 [==============================] - 186s 4s/step - loss: 0.0761 - accuracy: 0.9754 - val_loss: 0.1015 - val_accuracy: 0.9690\n",
      "Epoch 65/100\n",
      "50/50 [==============================] - 190s 4s/step - loss: 0.0447 - accuracy: 0.9850 - val_loss: 0.1184 - val_accuracy: 0.9631\n",
      "Epoch 66/100\n",
      "50/50 [==============================] - 191s 4s/step - loss: 0.0713 - accuracy: 0.9765 - val_loss: 0.1472 - val_accuracy: 0.9544\n",
      "Epoch 67/100\n",
      "50/50 [==============================] - 186s 4s/step - loss: 0.0790 - accuracy: 0.9728 - val_loss: 0.1848 - val_accuracy: 0.9400\n",
      "Epoch 68/100\n",
      "50/50 [==============================] - 186s 4s/step - loss: 0.0682 - accuracy: 0.9751 - val_loss: 0.1280 - val_accuracy: 0.9603\n",
      "Epoch 69/100\n",
      "50/50 [==============================] - 187s 4s/step - loss: 0.0445 - accuracy: 0.9832 - val_loss: 0.1277 - val_accuracy: 0.9644\n",
      "Epoch 70/100\n",
      "50/50 [==============================] - 195s 4s/step - loss: 0.0710 - accuracy: 0.9774 - val_loss: 0.1069 - val_accuracy: 0.9680\n",
      "Epoch 71/100\n",
      "50/50 [==============================] - 187s 4s/step - loss: 0.0475 - accuracy: 0.9842 - val_loss: 0.1466 - val_accuracy: 0.9557\n",
      "Epoch 72/100\n",
      "50/50 [==============================] - 186s 4s/step - loss: 0.0431 - accuracy: 0.9856 - val_loss: 0.1635 - val_accuracy: 0.9537\n",
      "Epoch 73/100\n",
      "50/50 [==============================] - 187s 4s/step - loss: 0.0478 - accuracy: 0.9849 - val_loss: 0.0866 - val_accuracy: 0.9733\n",
      "Epoch 74/100\n",
      "50/50 [==============================] - 186s 4s/step - loss: 0.0421 - accuracy: 0.9845 - val_loss: 0.0813 - val_accuracy: 0.9757\n",
      "Epoch 75/100\n",
      "50/50 [==============================] - 185s 4s/step - loss: 0.0547 - accuracy: 0.9820 - val_loss: 0.0969 - val_accuracy: 0.9704\n",
      "Epoch 76/100\n",
      "50/50 [==============================] - 187s 4s/step - loss: 0.0503 - accuracy: 0.9847 - val_loss: 0.1101 - val_accuracy: 0.9659\n",
      "Epoch 77/100\n",
      "50/50 [==============================] - 185s 4s/step - loss: 0.0378 - accuracy: 0.9881 - val_loss: 0.1001 - val_accuracy: 0.9697\n",
      "Epoch 78/100\n",
      "50/50 [==============================] - 186s 4s/step - loss: 0.0479 - accuracy: 0.9828 - val_loss: 0.1590 - val_accuracy: 0.9499\n",
      "Epoch 79/100\n",
      "50/50 [==============================] - 186s 4s/step - loss: 0.0785 - accuracy: 0.9749 - val_loss: 0.1027 - val_accuracy: 0.9697\n",
      "Epoch 80/100\n",
      "50/50 [==============================] - 187s 4s/step - loss: 0.0646 - accuracy: 0.9783 - val_loss: 0.2066 - val_accuracy: 0.9449\n",
      "Epoch 81/100\n",
      "50/50 [==============================] - 189s 4s/step - loss: 0.0656 - accuracy: 0.9764 - val_loss: 0.2029 - val_accuracy: 0.9424\n",
      "Epoch 82/100\n",
      "50/50 [==============================] - 196s 4s/step - loss: 0.0582 - accuracy: 0.9807 - val_loss: 0.0834 - val_accuracy: 0.9726\n",
      "Epoch 83/100\n",
      "50/50 [==============================] - 207s 4s/step - loss: 0.0489 - accuracy: 0.9823 - val_loss: 0.1327 - val_accuracy: 0.9617\n",
      "Epoch 84/100\n",
      "50/50 [==============================] - 193s 4s/step - loss: 0.0876 - accuracy: 0.9686 - val_loss: 0.1065 - val_accuracy: 0.9664\n",
      "Epoch 85/100\n",
      "50/50 [==============================] - 199s 4s/step - loss: 0.0494 - accuracy: 0.9823 - val_loss: 0.1040 - val_accuracy: 0.9650\n",
      "Epoch 86/100\n",
      "50/50 [==============================] - 187s 4s/step - loss: 0.0367 - accuracy: 0.9873 - val_loss: 0.1030 - val_accuracy: 0.9716\n",
      "Epoch 87/100\n",
      "50/50 [==============================] - 188s 4s/step - loss: 0.0412 - accuracy: 0.9864 - val_loss: 0.1366 - val_accuracy: 0.9600\n",
      "Epoch 88/100\n",
      "50/50 [==============================] - 191s 4s/step - loss: 0.0662 - accuracy: 0.9785 - val_loss: 0.1874 - val_accuracy: 0.9426\n",
      "Epoch 89/100\n",
      "50/50 [==============================] - 192s 4s/step - loss: 0.0430 - accuracy: 0.9855 - val_loss: 0.1737 - val_accuracy: 0.9539\n",
      "Epoch 90/100\n",
      "50/50 [==============================] - 201s 4s/step - loss: 0.0442 - accuracy: 0.9845 - val_loss: 0.1309 - val_accuracy: 0.9610\n",
      "Epoch 91/100\n",
      "50/50 [==============================] - 202s 4s/step - loss: 0.0414 - accuracy: 0.9861 - val_loss: 0.0726 - val_accuracy: 0.9777\n",
      "Epoch 92/100\n",
      "50/50 [==============================] - 207s 4s/step - loss: 0.0338 - accuracy: 0.9880 - val_loss: 0.0912 - val_accuracy: 0.9744\n",
      "Epoch 93/100\n",
      "50/50 [==============================] - 202s 4s/step - loss: 0.0313 - accuracy: 0.9896 - val_loss: 0.0928 - val_accuracy: 0.9731\n",
      "Epoch 94/100\n",
      "50/50 [==============================] - 193s 4s/step - loss: 0.0432 - accuracy: 0.9865 - val_loss: 0.0775 - val_accuracy: 0.9786\n",
      "Epoch 95/100\n",
      "50/50 [==============================] - 190s 4s/step - loss: 0.0389 - accuracy: 0.9861 - val_loss: 0.1032 - val_accuracy: 0.9700\n",
      "Epoch 96/100\n",
      "50/50 [==============================] - 188s 4s/step - loss: 0.0464 - accuracy: 0.9840 - val_loss: 0.1319 - val_accuracy: 0.9654\n",
      "Epoch 97/100\n",
      "50/50 [==============================] - 187s 4s/step - loss: 0.0525 - accuracy: 0.9835 - val_loss: 0.1111 - val_accuracy: 0.9660\n",
      "Epoch 98/100\n",
      "50/50 [==============================] - 186s 4s/step - loss: 0.0537 - accuracy: 0.9819 - val_loss: 0.1376 - val_accuracy: 0.9574\n",
      "Epoch 99/100\n",
      "50/50 [==============================] - 185s 4s/step - loss: 0.0520 - accuracy: 0.9830 - val_loss: 0.1059 - val_accuracy: 0.9707\n",
      "Epoch 100/100\n",
      "50/50 [==============================] - 184s 4s/step - loss: 0.0663 - accuracy: 0.9786 - val_loss: 0.1456 - val_accuracy: 0.9591\n"
     ]
    }
   ],
   "source": [
    "vgg_mod = vggmodel.fit(x = training_set, validation_data=validation_set, epochs=100, verbose = 1)"
   ]
  },
  {
   "cell_type": "code",
   "execution_count": 20,
   "metadata": {},
   "outputs": [
    {
     "data": {
      "image/png": "[encoded data removed]",
      "text/plain": [
       "<Figure size 432x288 with 1 Axes>"
      ]
     },
     "metadata": {
      "needs_background": "light"
     },
     "output_type": "display_data"
    }
   ],
   "source": [
    "# Loss Plot\n",
    "plt.plot(vgg_mod.history['loss'], label='train loss')\n",
    "plt.plot(vgg_mod.history['val_loss'], label='val loss')\n",
    "plt.legend()\n",
    "plt.show()"
   ]
  },
  {
   "cell_type": "code",
   "execution_count": 21,
   "metadata": {},
   "outputs": [
    {
     "data": {
      "image/png": "[encoded data removed]",
      "text/plain": [
       "<Figure size 432x288 with 1 Axes>"
      ]
     },
     "metadata": {
      "needs_background": "light"
     },
     "output_type": "display_data"
    }
   ],
   "source": [
    "# accuracy plot\n",
    "plt.plot(vgg_mod.history['accuracy'], label='train acc')\n",
    "plt.plot(vgg_mod.history['val_accuracy'], label='val acc')\n",
    "plt.legend()\n",
    "plt.show()"
   ]
  },
  {
   "cell_type": "markdown",
   "metadata": {},
   "source": [
    "Using the Vgg16 model as a base and updating all the parameters, we notice that it performs distinctly well as opposed to using Transfer Learning and can be confirmed by looking at the Loss curves where both overlap and do not diverge. Moreover, we can see from the logs that there isn't any significant improvement in the model's accuracy after epoch 40, and we can stop training the model there itself to save time."
   ]
  },
  {
   "cell_type": "code",
   "execution_count": 25,
   "metadata": {},
   "outputs": [],
   "source": [
    "# Saving the model as h5 file\n",
    "model_json = vggmodel.to_json()\n",
    "with open(\"model.json\", \"w\") as json_file:\n",
    "    json_file.write(model_json)\n",
    "# serialize weights to HDF5\n",
    "vggmodel.save_weights(\"model.h5\")\n"
   ]
  },
  {
   "cell_type": "markdown",
   "metadata": {},
   "source": [
    "# Conclusion\n",
    "1. Using transfer learning helped a bit, but as you can see from the previous loss and accuracy curves, the losses diverged before 10 epochs were completed, and after 50 epochs, 80% accuracy on training data was achieved.\n",
    "2. When all the parameters of the VGG16 model are updated, we can see that training the model any further than 50 epochs did not achieve any significant improvements but a significantly higher accuracy than transfer learning.\n",
    "3. Also, the loss on training and validation data pretty much overlap on the updated model, indicating a much robust model. "
   ]
  },
  {
   "cell_type": "markdown",
   "metadata": {},
   "source": [
    "# Limitations\n",
    "Here I only used the VGG16 model because of hardware limitations and the time it was taking to train the model."
   ]
  }
 ],
 "metadata": {
  "kernelspec": {
   "display_name": "Python 3",
   "language": "python",
   "name": "python3"
  },
  "language_info": {
   "codemirror_mode": {
    "name": "ipython",
    "version": 3
   },
   "file_extension": ".py",
   "mimetype": "text/x-python",
   "name": "python",
   "nbconvert_exporter": "python",
   "pygments_lexer": "ipython3",
   "version": "3.7.9"
  }
 },
 "nbformat": 4,
 "nbformat_minor": 4
}
