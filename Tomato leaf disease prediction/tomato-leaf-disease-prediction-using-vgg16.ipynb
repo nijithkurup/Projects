{
 "cells": [
  {
   "cell_type": "markdown",
   "metadata": {},
   "source": [
    "# Motivation\n",
    "In today's world, where the population is growing at a tremendous pace, the challenges regarding food production are also increasing, with the primary objective of keeping the supply in line with the demand. In agriculture, crop diseases are common, and it becomes crucial to keep the crops away from these diseases. It becomes even more strenuous to keep every plant in check."
   ]
  },
  {
   "cell_type": "markdown",
   "metadata": {},
   "source": [
    "# Objective\n",
    "The goal of this project is to create a CNN model that can accurately predict if a plant's leaf is healthy or infected, and if infected, then what disease is involved. Here I've used transfer learning and also used the VGG16 model as a base for prediction."
   ]
  },
  {
   "cell_type": "code",
   "execution_count": 1,
   "metadata": {
    "_cell_guid": "79c7e3d0-c299-4dcb-8224-4455121ee9b0",
    "_uuid": "d629ff2d2480ee46fbb7e2d37f6b5fab8052498a"
   },
   "outputs": [],
   "source": [
    "# Importing the required Libraries\n",
    "import numpy as np\n",
    "import tensorflow as tf\n",
    "from tensorflow import keras\n",
    "from tensorflow.keras.models import Sequential\n",
    "from tensorflow.keras.layers import Activation, Dense, Flatten, BatchNormalization, Conv2D, MaxPool2D\n",
    "from tensorflow.keras.optimizers import Adam\n",
    "from tensorflow.keras.metrics import categorical_crossentropy\n",
    "from tensorflow.keras.preprocessing.image import ImageDataGenerator\n",
    "from sklearn.metrics import confusion_matrix\n",
    "import itertools\n",
    "import os\n",
    "import glob\n",
    "import warnings\n",
    "warnings.simplefilter(action=\"ignore\", category=FutureWarning)\n",
    "import matplotlib.pyplot as plt\n",
    "%matplotlib inline"
   ]
  },
  {
   "cell_type": "code",
   "execution_count": 2,
   "metadata": {},
   "outputs": [],
   "source": [
    "train_path = \"../input/tomato-leaf-disease/Tomato Leaf Diseases/Training Set\"\n",
    "valid_path = \"../input/tomato-leaf-disease/Tomato Leaf Diseases/Validation Set\""
   ]
  },
  {
   "cell_type": "code",
   "execution_count": 3,
   "metadata": {},
   "outputs": [],
   "source": [
    "train_datagen = ImageDataGenerator(rescale = 1./255,\n",
    "                                   shear_range = 0.2,\n",
    "                                   zoom_range = 0.2,\n",
    "                                   horizontal_flip = True, \n",
    "                                   vertical_flip=True)\n",
    "\n",
    "valid_datagen = ImageDataGenerator(rescale = 1./255)"
   ]
  },
  {
   "cell_type": "code",
   "execution_count": 4,
   "metadata": {},
   "outputs": [
    {
     "name": "stdout",
     "output_type": "stream",
     "text": [
      "Found 10000 images belonging to 10 classes.\n"
     ]
    }
   ],
   "source": [
    "# Augmenting training data for more training examples\n",
    "training_set = train_datagen.flow_from_directory('../input/tomato-leaf-disease/Tomato Leaf Diseases/Training Set',\n",
    "                                                 target_size = (224, 224),\n",
    "                                                 batch_size = 200,\n",
    "                                                 class_mode = 'categorical')"
   ]
  },
  {
   "cell_type": "code",
   "execution_count": 5,
   "metadata": {},
   "outputs": [
    {
     "name": "stdout",
     "output_type": "stream",
     "text": [
      "Found 7000 images belonging to 10 classes.\n"
     ]
    }
   ],
   "source": [
    "validation_set = valid_datagen.flow_from_directory('../input/tomato-leaf-disease/Tomato Leaf Diseases/Validation Set',\n",
    "                                            target_size = (224, 224),\n",
    "                                            batch_size = 70,\n",
    "                                            class_mode = 'categorical')"
   ]
  },
  {
   "cell_type": "markdown",
   "metadata": {},
   "source": [
    "# **Using Transfer Learning (VGG16)**"
   ]
  },
  {
   "cell_type": "code",
   "execution_count": 6,
   "metadata": {},
   "outputs": [
    {
     "name": "stdout",
     "output_type": "stream",
     "text": [
      "Downloading data from https://storage.googleapis.com/tensorflow/keras-applications/vgg16/vgg16_weights_tf_dim_ordering_tf_kernels.h5\n",
      "553467904/553467096 [==============================] - 12s 0us/step\n"
     ]
    }
   ],
   "source": [
    "# Downloading the VGG16 model\n",
    "vgg16_model =  tf.keras.applications.vgg16.VGG16()"
   ]
  },
  {
   "cell_type": "code",
   "execution_count": 7,
   "metadata": {},
   "outputs": [],
   "source": [
    "model = Sequential()\n",
    "for layer in vgg16_model.layers[:-1]:\n",
    "    model.add(layer)"
   ]
  },
  {
   "cell_type": "code",
   "execution_count": 8,
   "metadata": {},
   "outputs": [],
   "source": [
    "# Not training existing weights\n",
    "for layer in model.layers:\n",
    "    layer.trainable = False"
   ]
  },
  {
   "cell_type": "code",
   "execution_count": 9,
   "metadata": {},
   "outputs": [],
   "source": [
    "model.add(Dense(units=10, activation= 'softmax'))"
   ]
  },
  {
   "cell_type": "code",
   "execution_count": 10,
   "metadata": {},
   "outputs": [
    {
     "name": "stdout",
     "output_type": "stream",
     "text": [
      "Model: \"sequential\"\n",
      "_________________________________________________________________\n",
      "Layer (type)                 Output Shape              Param #   \n",
      "=================================================================\n",
      "block1_conv1 (Conv2D)        (None, 224, 224, 64)      1792      \n",
      "_________________________________________________________________\n",
      "block1_conv2 (Conv2D)        (None, 224, 224, 64)      36928     \n",
      "_________________________________________________________________\n",
      "block1_pool (MaxPooling2D)   (None, 112, 112, 64)      0         \n",
      "_________________________________________________________________\n",
      "block2_conv1 (Conv2D)        (None, 112, 112, 128)     73856     \n",
      "_________________________________________________________________\n",
      "block2_conv2 (Conv2D)        (None, 112, 112, 128)     147584    \n",
      "_________________________________________________________________\n",
      "block2_pool (MaxPooling2D)   (None, 56, 56, 128)       0         \n",
      "_________________________________________________________________\n",
      "block3_conv1 (Conv2D)        (None, 56, 56, 256)       295168    \n",
      "_________________________________________________________________\n",
      "block3_conv2 (Conv2D)        (None, 56, 56, 256)       590080    \n",
      "_________________________________________________________________\n",
      "block3_conv3 (Conv2D)        (None, 56, 56, 256)       590080    \n",
      "_________________________________________________________________\n",
      "block3_pool (MaxPooling2D)   (None, 28, 28, 256)       0         \n",
      "_________________________________________________________________\n",
      "block4_conv1 (Conv2D)        (None, 28, 28, 512)       1180160   \n",
      "_________________________________________________________________\n",
      "block4_conv2 (Conv2D)        (None, 28, 28, 512)       2359808   \n",
      "_________________________________________________________________\n",
      "block4_conv3 (Conv2D)        (None, 28, 28, 512)       2359808   \n",
      "_________________________________________________________________\n",
      "block4_pool (MaxPooling2D)   (None, 14, 14, 512)       0         \n",
      "_________________________________________________________________\n",
      "block5_conv1 (Conv2D)        (None, 14, 14, 512)       2359808   \n",
      "_________________________________________________________________\n",
      "block5_conv2 (Conv2D)        (None, 14, 14, 512)       2359808   \n",
      "_________________________________________________________________\n",
      "block5_conv3 (Conv2D)        (None, 14, 14, 512)       2359808   \n",
      "_________________________________________________________________\n",
      "block5_pool (MaxPooling2D)   (None, 7, 7, 512)         0         \n",
      "_________________________________________________________________\n",
      "flatten (Flatten)            (None, 25088)             0         \n",
      "_________________________________________________________________\n",
      "fc1 (Dense)                  (None, 4096)              102764544 \n",
      "_________________________________________________________________\n",
      "fc2 (Dense)                  (None, 4096)              16781312  \n",
      "_________________________________________________________________\n",
      "dense (Dense)                (None, 10)                40970     \n",
      "=================================================================\n",
      "Total params: 134,301,514\n",
      "Trainable params: 40,970\n",
      "Non-trainable params: 134,260,544\n",
      "_________________________________________________________________\n"
     ]
    }
   ],
   "source": [
    "model.summary()"
   ]
  },
  {
   "cell_type": "code",
   "execution_count": 11,
   "metadata": {},
   "outputs": [],
   "source": [
    "model.compile(loss='categorical_crossentropy', \n",
    "              optimizer='adam', \n",
    "              metrics=['accuracy'])"
   ]
  },
  {
   "cell_type": "code",
   "execution_count": 12,
   "metadata": {},
   "outputs": [
    {
     "name": "stdout",
     "output_type": "stream",
     "text": [
      "Epoch 1/50\n",
      "50/50 [==============================] - 268s 5s/step - loss: 2.0594 - accuracy: 0.3029 - val_loss: 1.7327 - val_accuracy: 0.4193\n",
      "Epoch 2/50\n",
      "50/50 [==============================] - 149s 3s/step - loss: 1.5347 - accuracy: 0.5249 - val_loss: 1.4431 - val_accuracy: 0.5571\n",
      "Epoch 3/50\n",
      "50/50 [==============================] - 151s 3s/step - loss: 1.3380 - accuracy: 0.5841 - val_loss: 1.3124 - val_accuracy: 0.5961\n",
      "Epoch 4/50\n",
      "50/50 [==============================] - 150s 3s/step - loss: 1.2201 - accuracy: 0.6175 - val_loss: 1.2538 - val_accuracy: 0.6019\n",
      "Epoch 5/50\n",
      "50/50 [==============================] - 150s 3s/step - loss: 1.1391 - accuracy: 0.6392 - val_loss: 1.1883 - val_accuracy: 0.6160\n",
      "Epoch 6/50\n",
      "50/50 [==============================] - 151s 3s/step - loss: 1.0757 - accuracy: 0.6575 - val_loss: 1.1349 - val_accuracy: 0.6253\n",
      "Epoch 7/50\n",
      "50/50 [==============================] - 149s 3s/step - loss: 1.0343 - accuracy: 0.6730 - val_loss: 1.0574 - val_accuracy: 0.6687\n",
      "Epoch 8/50\n",
      "50/50 [==============================] - 151s 3s/step - loss: 0.9809 - accuracy: 0.6861 - val_loss: 1.0355 - val_accuracy: 0.6656\n",
      "Epoch 9/50\n",
      "50/50 [==============================] - 150s 3s/step - loss: 0.9622 - accuracy: 0.6868 - val_loss: 0.9910 - val_accuracy: 0.6914\n",
      "Epoch 10/50\n",
      "50/50 [==============================] - 150s 3s/step - loss: 0.9320 - accuracy: 0.7016 - val_loss: 1.0088 - val_accuracy: 0.6687\n",
      "Epoch 11/50\n",
      "50/50 [==============================] - 150s 3s/step - loss: 0.8993 - accuracy: 0.7081 - val_loss: 0.9831 - val_accuracy: 0.6700\n",
      "Epoch 12/50\n",
      "50/50 [==============================] - 151s 3s/step - loss: 0.8779 - accuracy: 0.7216 - val_loss: 0.9470 - val_accuracy: 0.6911\n",
      "Epoch 13/50\n",
      "50/50 [==============================] - 151s 3s/step - loss: 0.8598 - accuracy: 0.7216 - val_loss: 0.9144 - val_accuracy: 0.7037\n",
      "Epoch 14/50\n",
      "50/50 [==============================] - 151s 3s/step - loss: 0.8530 - accuracy: 0.7236 - val_loss: 0.9248 - val_accuracy: 0.7043\n",
      "Epoch 15/50\n",
      "50/50 [==============================] - 152s 3s/step - loss: 0.8512 - accuracy: 0.7191 - val_loss: 0.8824 - val_accuracy: 0.7170\n",
      "Epoch 16/50\n",
      "50/50 [==============================] - 152s 3s/step - loss: 0.8124 - accuracy: 0.7378 - val_loss: 0.8933 - val_accuracy: 0.7034\n",
      "Epoch 17/50\n",
      "50/50 [==============================] - 153s 3s/step - loss: 0.8054 - accuracy: 0.7337 - val_loss: 0.8401 - val_accuracy: 0.7319\n",
      "Epoch 18/50\n",
      "50/50 [==============================] - 154s 3s/step - loss: 0.7924 - accuracy: 0.7381 - val_loss: 0.8605 - val_accuracy: 0.7180\n",
      "Epoch 19/50\n",
      "50/50 [==============================] - 153s 3s/step - loss: 0.7728 - accuracy: 0.7493 - val_loss: 0.8208 - val_accuracy: 0.7316\n",
      "Epoch 20/50\n",
      "50/50 [==============================] - 155s 3s/step - loss: 0.7670 - accuracy: 0.7551 - val_loss: 0.8388 - val_accuracy: 0.7109\n",
      "Epoch 21/50\n",
      "50/50 [==============================] - 154s 3s/step - loss: 0.7765 - accuracy: 0.7446 - val_loss: 0.8746 - val_accuracy: 0.7127\n",
      "Epoch 22/50\n",
      "50/50 [==============================] - 155s 3s/step - loss: 0.7640 - accuracy: 0.7477 - val_loss: 0.8433 - val_accuracy: 0.7170\n",
      "Epoch 23/50\n",
      "50/50 [==============================] - 154s 3s/step - loss: 0.7446 - accuracy: 0.7551 - val_loss: 0.8131 - val_accuracy: 0.7350\n",
      "Epoch 24/50\n",
      "50/50 [==============================] - 153s 3s/step - loss: 0.7482 - accuracy: 0.7537 - val_loss: 0.8587 - val_accuracy: 0.7077\n",
      "Epoch 25/50\n",
      "50/50 [==============================] - 155s 3s/step - loss: 0.7372 - accuracy: 0.7544 - val_loss: 0.7885 - val_accuracy: 0.7406\n",
      "Epoch 26/50\n",
      "50/50 [==============================] - 152s 3s/step - loss: 0.7309 - accuracy: 0.7620 - val_loss: 0.8513 - val_accuracy: 0.7141\n",
      "Epoch 27/50\n",
      "50/50 [==============================] - 152s 3s/step - loss: 0.7172 - accuracy: 0.7621 - val_loss: 0.8103 - val_accuracy: 0.7267\n",
      "Epoch 28/50\n",
      "50/50 [==============================] - 151s 3s/step - loss: 0.7186 - accuracy: 0.7573 - val_loss: 0.7518 - val_accuracy: 0.7550\n",
      "Epoch 29/50\n",
      "50/50 [==============================] - 151s 3s/step - loss: 0.7162 - accuracy: 0.7662 - val_loss: 0.8014 - val_accuracy: 0.7324\n",
      "Epoch 30/50\n",
      "50/50 [==============================] - 153s 3s/step - loss: 0.7123 - accuracy: 0.7626 - val_loss: 0.7801 - val_accuracy: 0.7391\n",
      "Epoch 31/50\n",
      "50/50 [==============================] - 151s 3s/step - loss: 0.7156 - accuracy: 0.7600 - val_loss: 0.8110 - val_accuracy: 0.7253\n",
      "Epoch 32/50\n",
      "50/50 [==============================] - 152s 3s/step - loss: 0.7016 - accuracy: 0.7650 - val_loss: 0.7838 - val_accuracy: 0.7394\n",
      "Epoch 33/50\n",
      "50/50 [==============================] - 151s 3s/step - loss: 0.6860 - accuracy: 0.7746 - val_loss: 0.8102 - val_accuracy: 0.7251\n",
      "Epoch 34/50\n",
      "50/50 [==============================] - 151s 3s/step - loss: 0.6910 - accuracy: 0.7682 - val_loss: 0.7787 - val_accuracy: 0.7397\n",
      "Epoch 35/50\n",
      "50/50 [==============================] - 150s 3s/step - loss: 0.6711 - accuracy: 0.7760 - val_loss: 0.7399 - val_accuracy: 0.7554\n",
      "Epoch 36/50\n",
      "50/50 [==============================] - 151s 3s/step - loss: 0.6749 - accuracy: 0.7798 - val_loss: 0.8232 - val_accuracy: 0.7177\n",
      "Epoch 37/50\n",
      "50/50 [==============================] - 150s 3s/step - loss: 0.6821 - accuracy: 0.7756 - val_loss: 0.7427 - val_accuracy: 0.7506\n",
      "Epoch 38/50\n",
      "50/50 [==============================] - 150s 3s/step - loss: 0.6640 - accuracy: 0.7810 - val_loss: 0.7544 - val_accuracy: 0.7440\n",
      "Epoch 39/50\n",
      "50/50 [==============================] - 150s 3s/step - loss: 0.6566 - accuracy: 0.7846 - val_loss: 0.7609 - val_accuracy: 0.7467\n",
      "Epoch 40/50\n",
      "50/50 [==============================] - 149s 3s/step - loss: 0.6583 - accuracy: 0.7856 - val_loss: 0.8001 - val_accuracy: 0.7334\n",
      "Epoch 41/50\n",
      "50/50 [==============================] - 150s 3s/step - loss: 0.6664 - accuracy: 0.7794 - val_loss: 0.7335 - val_accuracy: 0.7543\n",
      "Epoch 42/50\n",
      "50/50 [==============================] - 151s 3s/step - loss: 0.6548 - accuracy: 0.7794 - val_loss: 0.7157 - val_accuracy: 0.7649\n",
      "Epoch 43/50\n",
      "50/50 [==============================] - 150s 3s/step - loss: 0.6572 - accuracy: 0.7787 - val_loss: 0.7004 - val_accuracy: 0.7677\n",
      "Epoch 44/50\n",
      "50/50 [==============================] - 150s 3s/step - loss: 0.6408 - accuracy: 0.7890 - val_loss: 0.7213 - val_accuracy: 0.7586\n",
      "Epoch 45/50\n",
      "50/50 [==============================] - 150s 3s/step - loss: 0.6392 - accuracy: 0.7824 - val_loss: 0.7179 - val_accuracy: 0.7587\n",
      "Epoch 46/50\n",
      "50/50 [==============================] - 150s 3s/step - loss: 0.6253 - accuracy: 0.7926 - val_loss: 0.7538 - val_accuracy: 0.7491\n",
      "Epoch 47/50\n",
      "50/50 [==============================] - 149s 3s/step - loss: 0.6509 - accuracy: 0.7834 - val_loss: 0.7570 - val_accuracy: 0.7411\n",
      "Epoch 48/50\n",
      "50/50 [==============================] - 150s 3s/step - loss: 0.6366 - accuracy: 0.7836 - val_loss: 0.6975 - val_accuracy: 0.7699\n",
      "Epoch 49/50\n",
      "50/50 [==============================] - 149s 3s/step - loss: 0.6340 - accuracy: 0.7888 - val_loss: 0.7048 - val_accuracy: 0.7643\n",
      "Epoch 50/50\n",
      "50/50 [==============================] - 151s 3s/step - loss: 0.6221 - accuracy: 0.7955 - val_loss: 0.7496 - val_accuracy: 0.7463\n"
     ]
    }
   ],
   "source": [
    "mod = model.fit(x = training_set, validation_data=validation_set, epochs=50, verbose = 1)"
   ]
  },
  {
   "cell_type": "code",
   "execution_count": 13,
   "metadata": {},
   "outputs": [
    {
     "data": {
      "image/png": "[encoded data removed]",
      "text/plain": [
       "<Figure size 432x288 with 1 Axes>"
      ]
     },
     "metadata": {
      "needs_background": "light"
     },
     "output_type": "display_data"
    }
   ],
   "source": [
    "# Loss Plot\n",
    "plt.plot(mod.history['loss'], label='train loss')\n",
    "plt.plot(mod.history['val_loss'], label='val loss')\n",
    "plt.legend()\n",
    "plt.show()"
   ]
  },
  {
   "cell_type": "code",
   "execution_count": 14,
   "metadata": {},
   "outputs": [
    {
     "data": {
      "image/png": "[encoded data removed]",
      "text/plain": [
       "<Figure size 432x288 with 1 Axes>"
      ]
     },
     "metadata": {
      "needs_background": "light"
     },
     "output_type": "display_data"
    }
   ],
   "source": [
    "# accuracy plot\n",
    "plt.plot(mod.history['accuracy'], label='train acc')\n",
    "plt.plot(mod.history['val_accuracy'], label='val acc')\n",
    "plt.legend()\n",
    "plt.show()"
   ]
  },
  {
   "cell_type": "markdown",
   "metadata": {},
   "source": [
    "**Note**\n",
    "From the above Accuracy and Loss plots, it is evident that the model started to overfit a bit. That can be confirmed by looking at the diverging training and validation losses."
   ]
  },
  {
   "cell_type": "markdown",
   "metadata": {},
   "source": [
    "# Updating all the parameters of VGG16 model"
   ]
  },
  {
   "cell_type": "code",
   "execution_count": 6,
   "metadata": {},
   "outputs": [
    {
     "name": "stdout",
     "output_type": "stream",
     "text": [
      "Downloading data from https://storage.googleapis.com/tensorflow/keras-applications/vgg16/vgg16_weights_tf_dim_ordering_tf_kernels.h5\n",
      "553467904/553467096 [==============================] - 14s 0us/step\n"
     ]
    }
   ],
   "source": [
    "vgg16 =  tf.keras.applications.vgg16.VGG16()"
   ]
  },
  {
   "cell_type": "code",
   "execution_count": 7,
   "metadata": {},
   "outputs": [],
   "source": [
    "vggmodel = Sequential()\n",
    "for layer in vgg16.layers[:-1]:\n",
    "    vggmodel.add(layer)"
   ]
  },
  {
   "cell_type": "code",
   "execution_count": 8,
   "metadata": {},
   "outputs": [
    {
     "name": "stdout",
     "output_type": "stream",
     "text": [
      "Model: \"sequential\"\n",
      "_________________________________________________________________\n",
      "Layer (type)                 Output Shape              Param #   \n",
      "=================================================================\n",
      "block1_conv1 (Conv2D)        (None, 224, 224, 64)      1792      \n",
      "_________________________________________________________________\n",
      "block1_conv2 (Conv2D)        (None, 224, 224, 64)      36928     \n",
      "_________________________________________________________________\n",
      "block1_pool (MaxPooling2D)   (None, 112, 112, 64)      0         \n",
      "_________________________________________________________________\n",
      "block2_conv1 (Conv2D)        (None, 112, 112, 128)     73856     \n",
      "_________________________________________________________________\n",
      "block2_conv2 (Conv2D)        (None, 112, 112, 128)     147584    \n",
      "_________________________________________________________________\n",
      "block2_pool (MaxPooling2D)   (None, 56, 56, 128)       0         \n",
      "_________________________________________________________________\n",
      "block3_conv1 (Conv2D)        (None, 56, 56, 256)       295168    \n",
      "_________________________________________________________________\n",
      "block3_conv2 (Conv2D)        (None, 56, 56, 256)       590080    \n",
      "_________________________________________________________________\n",
      "block3_conv3 (Conv2D)        (None, 56, 56, 256)       590080    \n",
      "_________________________________________________________________\n",
      "block3_pool (MaxPooling2D)   (None, 28, 28, 256)       0         \n",
      "_________________________________________________________________\n",
      "block4_conv1 (Conv2D)        (None, 28, 28, 512)       1180160   \n",
      "_________________________________________________________________\n",
      "block4_conv2 (Conv2D)        (None, 28, 28, 512)       2359808   \n",
      "_________________________________________________________________\n",
      "block4_conv3 (Conv2D)        (None, 28, 28, 512)       2359808   \n",
      "_________________________________________________________________\n",
      "block4_pool (MaxPooling2D)   (None, 14, 14, 512)       0         \n",
      "_________________________________________________________________\n",
      "block5_conv1 (Conv2D)        (None, 14, 14, 512)       2359808   \n",
      "_________________________________________________________________\n",
      "block5_conv2 (Conv2D)        (None, 14, 14, 512)       2359808   \n",
      "_________________________________________________________________\n",
      "block5_conv3 (Conv2D)        (None, 14, 14, 512)       2359808   \n",
      "_________________________________________________________________\n",
      "block5_pool (MaxPooling2D)   (None, 7, 7, 512)         0         \n",
      "_________________________________________________________________\n",
      "flatten (Flatten)            (None, 25088)             0         \n",
      "_________________________________________________________________\n",
      "fc1 (Dense)                  (None, 4096)              102764544 \n",
      "_________________________________________________________________\n",
      "fc2 (Dense)                  (None, 4096)              16781312  \n",
      "_________________________________________________________________\n",
      "dense (Dense)                (None, 10)                40970     \n",
      "=================================================================\n",
      "Total params: 134,301,514\n",
      "Trainable params: 134,301,514\n",
      "Non-trainable params: 0\n",
      "_________________________________________________________________\n"
     ]
    }
   ],
   "source": [
    "vggmodel.add(Dense(units=10, activation= 'softmax'))\n",
    "vggmodel.summary()"
   ]
  },
  {
   "cell_type": "code",
   "execution_count": 9,
   "metadata": {},
   "outputs": [],
   "source": [
    "vggmodel.compile(loss='categorical_crossentropy', \n",
    "              optimizer='adam', \n",
    "              metrics=['accuracy'])"
   ]
  },
  {
   "cell_type": "code",
   "execution_count": null,
   "metadata": {},
   "outputs": [],
   "source": [
    "vgg_mod = vggmodel.fit(x = training_set, validation_data=validation_set, epochs=100, verbose = 1)"
   ]
  },
  {
   "cell_type": "code",
   "execution_count": 11,
   "metadata": {},
   "outputs": [
    {
     "data": {
      "image/png": "[encoded data removed]",
      "text/plain": [
       "<Figure size 432x288 with 1 Axes>"
      ]
     },
     "metadata": {
      "needs_background": "light"
     },
     "output_type": "display_data"
    }
   ],
   "source": [
    "# Loss Plot\n",
    "plt.plot(vgg_mod.history['loss'], label='train loss')\n",
    "plt.plot(vgg_mod.history['val_loss'], label='val loss')\n",
    "plt.legend()\n",
    "plt.show()"
   ]
  },
  {
   "cell_type": "code",
   "execution_count": 12,
   "metadata": {},
   "outputs": [
    {
     "data": {
      "image/png": "[encoded data removed]",
      "text/plain": [
       "<Figure size 432x288 with 1 Axes>"
      ]
     },
     "metadata": {
      "needs_background": "light"
     },
     "output_type": "display_data"
    }
   ],
   "source": [
    "# accuracy plot\n",
    "plt.plot(vgg_mod.history['accuracy'], label='train acc')\n",
    "plt.plot(vgg_mod.history['val_accuracy'], label='val acc')\n",
    "plt.legend()\n",
    "plt.show()"
   ]
  },
  {
   "cell_type": "markdown",
   "metadata": {},
   "source": [
    "Using the Vgg16 model as a base and updating all the parameters, we notice that it performs distinctly well as opposed to using Transfer Learning and can be confirmed by looking at the Loss curves where both overlap and do not diverge."
   ]
  },
  {
   "cell_type": "markdown",
   "metadata": {},
   "source": [
    "# Limitations\n",
    "Here I could only use the VGG16 model because of the size of the data, and more importantly, because of hardware limitations."
   ]
  }
 ],
 "metadata": {
  "kernelspec": {
   "display_name": "Python 3",
   "language": "python",
   "name": "python3"
  },
  "language_info": {
   "codemirror_mode": {
    "name": "ipython",
    "version": 3
   },
   "file_extension": ".py",
   "mimetype": "text/x-python",
   "name": "python",
   "nbconvert_exporter": "python",
   "pygments_lexer": "ipython3",
   "version": "3.7.9"
  }
 },
 "nbformat": 4,
 "nbformat_minor": 4
}
